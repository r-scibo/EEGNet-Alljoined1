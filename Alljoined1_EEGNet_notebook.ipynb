{
  "nbformat": 4,
  "nbformat_minor": 0,
  "metadata": {
    "colab": {
      "provenance": []
    },
    "kernelspec": {
      "name": "python3",
      "display_name": "Python 3"
    },
    "language_info": {
      "name": "python"
    },
    "widgets": {
      "application/vnd.jupyter.widget-state+json": {
        "bb80eab338de42909d0de0fd4881dc22": {
          "model_module": "@jupyter-widgets/controls",
          "model_name": "HBoxModel",
          "model_module_version": "1.5.0",
          "state": {
            "_dom_classes": [],
            "_model_module": "@jupyter-widgets/controls",
            "_model_module_version": "1.5.0",
            "_model_name": "HBoxModel",
            "_view_count": null,
            "_view_module": "@jupyter-widgets/controls",
            "_view_module_version": "1.5.0",
            "_view_name": "HBoxView",
            "box_style": "",
            "children": [
              "IPY_MODEL_ece00727a98a47fe8744c58be052874d",
              "IPY_MODEL_3ef4697f5b78408493ae6e37c90f6de7",
              "IPY_MODEL_d9e8e7b6e1494350957a356b9fae8b1b"
            ],
            "layout": "IPY_MODEL_d75d5db83fc74ab5ac6adb85a46097a5"
          }
        },
        "ece00727a98a47fe8744c58be052874d": {
          "model_module": "@jupyter-widgets/controls",
          "model_name": "HTMLModel",
          "model_module_version": "1.5.0",
          "state": {
            "_dom_classes": [],
            "_model_module": "@jupyter-widgets/controls",
            "_model_module_version": "1.5.0",
            "_model_name": "HTMLModel",
            "_view_count": null,
            "_view_module": "@jupyter-widgets/controls",
            "_view_module_version": "1.5.0",
            "_view_name": "HTMLView",
            "description": "",
            "description_tooltip": null,
            "layout": "IPY_MODEL_1f396f1bcbea45b6b5a137870ce8fa7f",
            "placeholder": "​",
            "style": "IPY_MODEL_ac31de74dfb44e118b090e6e0dfca047",
            "value": "Filter: 100%"
          }
        },
        "3ef4697f5b78408493ae6e37c90f6de7": {
          "model_module": "@jupyter-widgets/controls",
          "model_name": "FloatProgressModel",
          "model_module_version": "1.5.0",
          "state": {
            "_dom_classes": [],
            "_model_module": "@jupyter-widgets/controls",
            "_model_module_version": "1.5.0",
            "_model_name": "FloatProgressModel",
            "_view_count": null,
            "_view_module": "@jupyter-widgets/controls",
            "_view_module_version": "1.5.0",
            "_view_name": "ProgressView",
            "bar_style": "success",
            "description": "",
            "description_tooltip": null,
            "layout": "IPY_MODEL_75f2e5978ff4498f85f61205ee6e2ac1",
            "max": 34354,
            "min": 0,
            "orientation": "horizontal",
            "style": "IPY_MODEL_b680f5eade694ff9918dfd4249e5d6bd",
            "value": 34354
          }
        },
        "d9e8e7b6e1494350957a356b9fae8b1b": {
          "model_module": "@jupyter-widgets/controls",
          "model_name": "HTMLModel",
          "model_module_version": "1.5.0",
          "state": {
            "_dom_classes": [],
            "_model_module": "@jupyter-widgets/controls",
            "_model_module_version": "1.5.0",
            "_model_name": "HTMLModel",
            "_view_count": null,
            "_view_module": "@jupyter-widgets/controls",
            "_view_module_version": "1.5.0",
            "_view_name": "HTMLView",
            "description": "",
            "description_tooltip": null,
            "layout": "IPY_MODEL_3a44ebd963424e9383af501053461a99",
            "placeholder": "​",
            "style": "IPY_MODEL_1f2d390f1c164e4dac30fe9f89156eb3",
            "value": " 34354/34354 [06:18&lt;00:00, 91.73 examples/s]"
          }
        },
        "d75d5db83fc74ab5ac6adb85a46097a5": {
          "model_module": "@jupyter-widgets/base",
          "model_name": "LayoutModel",
          "model_module_version": "1.2.0",
          "state": {
            "_model_module": "@jupyter-widgets/base",
            "_model_module_version": "1.2.0",
            "_model_name": "LayoutModel",
            "_view_count": null,
            "_view_module": "@jupyter-widgets/base",
            "_view_module_version": "1.2.0",
            "_view_name": "LayoutView",
            "align_content": null,
            "align_items": null,
            "align_self": null,
            "border": null,
            "bottom": null,
            "display": null,
            "flex": null,
            "flex_flow": null,
            "grid_area": null,
            "grid_auto_columns": null,
            "grid_auto_flow": null,
            "grid_auto_rows": null,
            "grid_column": null,
            "grid_gap": null,
            "grid_row": null,
            "grid_template_areas": null,
            "grid_template_columns": null,
            "grid_template_rows": null,
            "height": null,
            "justify_content": null,
            "justify_items": null,
            "left": null,
            "margin": null,
            "max_height": null,
            "max_width": null,
            "min_height": null,
            "min_width": null,
            "object_fit": null,
            "object_position": null,
            "order": null,
            "overflow": null,
            "overflow_x": null,
            "overflow_y": null,
            "padding": null,
            "right": null,
            "top": null,
            "visibility": null,
            "width": null
          }
        },
        "1f396f1bcbea45b6b5a137870ce8fa7f": {
          "model_module": "@jupyter-widgets/base",
          "model_name": "LayoutModel",
          "model_module_version": "1.2.0",
          "state": {
            "_model_module": "@jupyter-widgets/base",
            "_model_module_version": "1.2.0",
            "_model_name": "LayoutModel",
            "_view_count": null,
            "_view_module": "@jupyter-widgets/base",
            "_view_module_version": "1.2.0",
            "_view_name": "LayoutView",
            "align_content": null,
            "align_items": null,
            "align_self": null,
            "border": null,
            "bottom": null,
            "display": null,
            "flex": null,
            "flex_flow": null,
            "grid_area": null,
            "grid_auto_columns": null,
            "grid_auto_flow": null,
            "grid_auto_rows": null,
            "grid_column": null,
            "grid_gap": null,
            "grid_row": null,
            "grid_template_areas": null,
            "grid_template_columns": null,
            "grid_template_rows": null,
            "height": null,
            "justify_content": null,
            "justify_items": null,
            "left": null,
            "margin": null,
            "max_height": null,
            "max_width": null,
            "min_height": null,
            "min_width": null,
            "object_fit": null,
            "object_position": null,
            "order": null,
            "overflow": null,
            "overflow_x": null,
            "overflow_y": null,
            "padding": null,
            "right": null,
            "top": null,
            "visibility": null,
            "width": null
          }
        },
        "ac31de74dfb44e118b090e6e0dfca047": {
          "model_module": "@jupyter-widgets/controls",
          "model_name": "DescriptionStyleModel",
          "model_module_version": "1.5.0",
          "state": {
            "_model_module": "@jupyter-widgets/controls",
            "_model_module_version": "1.5.0",
            "_model_name": "DescriptionStyleModel",
            "_view_count": null,
            "_view_module": "@jupyter-widgets/base",
            "_view_module_version": "1.2.0",
            "_view_name": "StyleView",
            "description_width": ""
          }
        },
        "75f2e5978ff4498f85f61205ee6e2ac1": {
          "model_module": "@jupyter-widgets/base",
          "model_name": "LayoutModel",
          "model_module_version": "1.2.0",
          "state": {
            "_model_module": "@jupyter-widgets/base",
            "_model_module_version": "1.2.0",
            "_model_name": "LayoutModel",
            "_view_count": null,
            "_view_module": "@jupyter-widgets/base",
            "_view_module_version": "1.2.0",
            "_view_name": "LayoutView",
            "align_content": null,
            "align_items": null,
            "align_self": null,
            "border": null,
            "bottom": null,
            "display": null,
            "flex": null,
            "flex_flow": null,
            "grid_area": null,
            "grid_auto_columns": null,
            "grid_auto_flow": null,
            "grid_auto_rows": null,
            "grid_column": null,
            "grid_gap": null,
            "grid_row": null,
            "grid_template_areas": null,
            "grid_template_columns": null,
            "grid_template_rows": null,
            "height": null,
            "justify_content": null,
            "justify_items": null,
            "left": null,
            "margin": null,
            "max_height": null,
            "max_width": null,
            "min_height": null,
            "min_width": null,
            "object_fit": null,
            "object_position": null,
            "order": null,
            "overflow": null,
            "overflow_x": null,
            "overflow_y": null,
            "padding": null,
            "right": null,
            "top": null,
            "visibility": null,
            "width": null
          }
        },
        "b680f5eade694ff9918dfd4249e5d6bd": {
          "model_module": "@jupyter-widgets/controls",
          "model_name": "ProgressStyleModel",
          "model_module_version": "1.5.0",
          "state": {
            "_model_module": "@jupyter-widgets/controls",
            "_model_module_version": "1.5.0",
            "_model_name": "ProgressStyleModel",
            "_view_count": null,
            "_view_module": "@jupyter-widgets/base",
            "_view_module_version": "1.2.0",
            "_view_name": "StyleView",
            "bar_color": null,
            "description_width": ""
          }
        },
        "3a44ebd963424e9383af501053461a99": {
          "model_module": "@jupyter-widgets/base",
          "model_name": "LayoutModel",
          "model_module_version": "1.2.0",
          "state": {
            "_model_module": "@jupyter-widgets/base",
            "_model_module_version": "1.2.0",
            "_model_name": "LayoutModel",
            "_view_count": null,
            "_view_module": "@jupyter-widgets/base",
            "_view_module_version": "1.2.0",
            "_view_name": "LayoutView",
            "align_content": null,
            "align_items": null,
            "align_self": null,
            "border": null,
            "bottom": null,
            "display": null,
            "flex": null,
            "flex_flow": null,
            "grid_area": null,
            "grid_auto_columns": null,
            "grid_auto_flow": null,
            "grid_auto_rows": null,
            "grid_column": null,
            "grid_gap": null,
            "grid_row": null,
            "grid_template_areas": null,
            "grid_template_columns": null,
            "grid_template_rows": null,
            "height": null,
            "justify_content": null,
            "justify_items": null,
            "left": null,
            "margin": null,
            "max_height": null,
            "max_width": null,
            "min_height": null,
            "min_width": null,
            "object_fit": null,
            "object_position": null,
            "order": null,
            "overflow": null,
            "overflow_x": null,
            "overflow_y": null,
            "padding": null,
            "right": null,
            "top": null,
            "visibility": null,
            "width": null
          }
        },
        "1f2d390f1c164e4dac30fe9f89156eb3": {
          "model_module": "@jupyter-widgets/controls",
          "model_name": "DescriptionStyleModel",
          "model_module_version": "1.5.0",
          "state": {
            "_model_module": "@jupyter-widgets/controls",
            "_model_module_version": "1.5.0",
            "_model_name": "DescriptionStyleModel",
            "_view_count": null,
            "_view_module": "@jupyter-widgets/base",
            "_view_module_version": "1.2.0",
            "_view_name": "StyleView",
            "description_width": ""
          }
        },
        "89f7bc0a2df24f07860f28b11c19082c": {
          "model_module": "@jupyter-widgets/controls",
          "model_name": "HBoxModel",
          "model_module_version": "1.5.0",
          "state": {
            "_dom_classes": [],
            "_model_module": "@jupyter-widgets/controls",
            "_model_module_version": "1.5.0",
            "_model_name": "HBoxModel",
            "_view_count": null,
            "_view_module": "@jupyter-widgets/controls",
            "_view_module_version": "1.5.0",
            "_view_name": "HBoxView",
            "box_style": "",
            "children": [
              "IPY_MODEL_5a15d0c3989c4b6eab7966e553cfe04e",
              "IPY_MODEL_6ca6c19464e94e6c87deb0e637d165f3",
              "IPY_MODEL_4d1ab98188ee430e9db6079ae711e866"
            ],
            "layout": "IPY_MODEL_198628978cd942979b00c9fc948135ef"
          }
        },
        "5a15d0c3989c4b6eab7966e553cfe04e": {
          "model_module": "@jupyter-widgets/controls",
          "model_name": "HTMLModel",
          "model_module_version": "1.5.0",
          "state": {
            "_dom_classes": [],
            "_model_module": "@jupyter-widgets/controls",
            "_model_module_version": "1.5.0",
            "_model_name": "HTMLModel",
            "_view_count": null,
            "_view_module": "@jupyter-widgets/controls",
            "_view_module_version": "1.5.0",
            "_view_name": "HTMLView",
            "description": "",
            "description_tooltip": null,
            "layout": "IPY_MODEL_10755985a0074192a753b6bc3b5aa09e",
            "placeholder": "​",
            "style": "IPY_MODEL_21d80afcc0674e4aab0587811e1be838",
            "value": "Filter: 100%"
          }
        },
        "6ca6c19464e94e6c87deb0e637d165f3": {
          "model_module": "@jupyter-widgets/controls",
          "model_name": "FloatProgressModel",
          "model_module_version": "1.5.0",
          "state": {
            "_dom_classes": [],
            "_model_module": "@jupyter-widgets/controls",
            "_model_module_version": "1.5.0",
            "_model_name": "FloatProgressModel",
            "_view_count": null,
            "_view_module": "@jupyter-widgets/controls",
            "_view_module_version": "1.5.0",
            "_view_name": "ProgressView",
            "bar_style": "success",
            "description": "",
            "description_tooltip": null,
            "layout": "IPY_MODEL_7e8f90b9b06e41deb3879797e1a71883",
            "max": 34354,
            "min": 0,
            "orientation": "horizontal",
            "style": "IPY_MODEL_a902be2cdac8453ba43a9823d1c8c8e4",
            "value": 34354
          }
        },
        "4d1ab98188ee430e9db6079ae711e866": {
          "model_module": "@jupyter-widgets/controls",
          "model_name": "HTMLModel",
          "model_module_version": "1.5.0",
          "state": {
            "_dom_classes": [],
            "_model_module": "@jupyter-widgets/controls",
            "_model_module_version": "1.5.0",
            "_model_name": "HTMLModel",
            "_view_count": null,
            "_view_module": "@jupyter-widgets/controls",
            "_view_module_version": "1.5.0",
            "_view_name": "HTMLView",
            "description": "",
            "description_tooltip": null,
            "layout": "IPY_MODEL_2aaaf4f53b3245749e70bbf68c1d2e3d",
            "placeholder": "​",
            "style": "IPY_MODEL_131c79ee8ca640879fc199f7d268ff85",
            "value": " 34354/34354 [06:07&lt;00:00, 94.20 examples/s]"
          }
        },
        "198628978cd942979b00c9fc948135ef": {
          "model_module": "@jupyter-widgets/base",
          "model_name": "LayoutModel",
          "model_module_version": "1.2.0",
          "state": {
            "_model_module": "@jupyter-widgets/base",
            "_model_module_version": "1.2.0",
            "_model_name": "LayoutModel",
            "_view_count": null,
            "_view_module": "@jupyter-widgets/base",
            "_view_module_version": "1.2.0",
            "_view_name": "LayoutView",
            "align_content": null,
            "align_items": null,
            "align_self": null,
            "border": null,
            "bottom": null,
            "display": null,
            "flex": null,
            "flex_flow": null,
            "grid_area": null,
            "grid_auto_columns": null,
            "grid_auto_flow": null,
            "grid_auto_rows": null,
            "grid_column": null,
            "grid_gap": null,
            "grid_row": null,
            "grid_template_areas": null,
            "grid_template_columns": null,
            "grid_template_rows": null,
            "height": null,
            "justify_content": null,
            "justify_items": null,
            "left": null,
            "margin": null,
            "max_height": null,
            "max_width": null,
            "min_height": null,
            "min_width": null,
            "object_fit": null,
            "object_position": null,
            "order": null,
            "overflow": null,
            "overflow_x": null,
            "overflow_y": null,
            "padding": null,
            "right": null,
            "top": null,
            "visibility": null,
            "width": null
          }
        },
        "10755985a0074192a753b6bc3b5aa09e": {
          "model_module": "@jupyter-widgets/base",
          "model_name": "LayoutModel",
          "model_module_version": "1.2.0",
          "state": {
            "_model_module": "@jupyter-widgets/base",
            "_model_module_version": "1.2.0",
            "_model_name": "LayoutModel",
            "_view_count": null,
            "_view_module": "@jupyter-widgets/base",
            "_view_module_version": "1.2.0",
            "_view_name": "LayoutView",
            "align_content": null,
            "align_items": null,
            "align_self": null,
            "border": null,
            "bottom": null,
            "display": null,
            "flex": null,
            "flex_flow": null,
            "grid_area": null,
            "grid_auto_columns": null,
            "grid_auto_flow": null,
            "grid_auto_rows": null,
            "grid_column": null,
            "grid_gap": null,
            "grid_row": null,
            "grid_template_areas": null,
            "grid_template_columns": null,
            "grid_template_rows": null,
            "height": null,
            "justify_content": null,
            "justify_items": null,
            "left": null,
            "margin": null,
            "max_height": null,
            "max_width": null,
            "min_height": null,
            "min_width": null,
            "object_fit": null,
            "object_position": null,
            "order": null,
            "overflow": null,
            "overflow_x": null,
            "overflow_y": null,
            "padding": null,
            "right": null,
            "top": null,
            "visibility": null,
            "width": null
          }
        },
        "21d80afcc0674e4aab0587811e1be838": {
          "model_module": "@jupyter-widgets/controls",
          "model_name": "DescriptionStyleModel",
          "model_module_version": "1.5.0",
          "state": {
            "_model_module": "@jupyter-widgets/controls",
            "_model_module_version": "1.5.0",
            "_model_name": "DescriptionStyleModel",
            "_view_count": null,
            "_view_module": "@jupyter-widgets/base",
            "_view_module_version": "1.2.0",
            "_view_name": "StyleView",
            "description_width": ""
          }
        },
        "7e8f90b9b06e41deb3879797e1a71883": {
          "model_module": "@jupyter-widgets/base",
          "model_name": "LayoutModel",
          "model_module_version": "1.2.0",
          "state": {
            "_model_module": "@jupyter-widgets/base",
            "_model_module_version": "1.2.0",
            "_model_name": "LayoutModel",
            "_view_count": null,
            "_view_module": "@jupyter-widgets/base",
            "_view_module_version": "1.2.0",
            "_view_name": "LayoutView",
            "align_content": null,
            "align_items": null,
            "align_self": null,
            "border": null,
            "bottom": null,
            "display": null,
            "flex": null,
            "flex_flow": null,
            "grid_area": null,
            "grid_auto_columns": null,
            "grid_auto_flow": null,
            "grid_auto_rows": null,
            "grid_column": null,
            "grid_gap": null,
            "grid_row": null,
            "grid_template_areas": null,
            "grid_template_columns": null,
            "grid_template_rows": null,
            "height": null,
            "justify_content": null,
            "justify_items": null,
            "left": null,
            "margin": null,
            "max_height": null,
            "max_width": null,
            "min_height": null,
            "min_width": null,
            "object_fit": null,
            "object_position": null,
            "order": null,
            "overflow": null,
            "overflow_x": null,
            "overflow_y": null,
            "padding": null,
            "right": null,
            "top": null,
            "visibility": null,
            "width": null
          }
        },
        "a902be2cdac8453ba43a9823d1c8c8e4": {
          "model_module": "@jupyter-widgets/controls",
          "model_name": "ProgressStyleModel",
          "model_module_version": "1.5.0",
          "state": {
            "_model_module": "@jupyter-widgets/controls",
            "_model_module_version": "1.5.0",
            "_model_name": "ProgressStyleModel",
            "_view_count": null,
            "_view_module": "@jupyter-widgets/base",
            "_view_module_version": "1.2.0",
            "_view_name": "StyleView",
            "bar_color": null,
            "description_width": ""
          }
        },
        "2aaaf4f53b3245749e70bbf68c1d2e3d": {
          "model_module": "@jupyter-widgets/base",
          "model_name": "LayoutModel",
          "model_module_version": "1.2.0",
          "state": {
            "_model_module": "@jupyter-widgets/base",
            "_model_module_version": "1.2.0",
            "_model_name": "LayoutModel",
            "_view_count": null,
            "_view_module": "@jupyter-widgets/base",
            "_view_module_version": "1.2.0",
            "_view_name": "LayoutView",
            "align_content": null,
            "align_items": null,
            "align_self": null,
            "border": null,
            "bottom": null,
            "display": null,
            "flex": null,
            "flex_flow": null,
            "grid_area": null,
            "grid_auto_columns": null,
            "grid_auto_flow": null,
            "grid_auto_rows": null,
            "grid_column": null,
            "grid_gap": null,
            "grid_row": null,
            "grid_template_areas": null,
            "grid_template_columns": null,
            "grid_template_rows": null,
            "height": null,
            "justify_content": null,
            "justify_items": null,
            "left": null,
            "margin": null,
            "max_height": null,
            "max_width": null,
            "min_height": null,
            "min_width": null,
            "object_fit": null,
            "object_position": null,
            "order": null,
            "overflow": null,
            "overflow_x": null,
            "overflow_y": null,
            "padding": null,
            "right": null,
            "top": null,
            "visibility": null,
            "width": null
          }
        },
        "131c79ee8ca640879fc199f7d268ff85": {
          "model_module": "@jupyter-widgets/controls",
          "model_name": "DescriptionStyleModel",
          "model_module_version": "1.5.0",
          "state": {
            "_model_module": "@jupyter-widgets/controls",
            "_model_module_version": "1.5.0",
            "_model_name": "DescriptionStyleModel",
            "_view_count": null,
            "_view_module": "@jupyter-widgets/base",
            "_view_module_version": "1.2.0",
            "_view_name": "StyleView",
            "description_width": ""
          }
        },
        "22538db31e624daa8b7f906b894a5987": {
          "model_module": "@jupyter-widgets/controls",
          "model_name": "HBoxModel",
          "model_module_version": "1.5.0",
          "state": {
            "_dom_classes": [],
            "_model_module": "@jupyter-widgets/controls",
            "_model_module_version": "1.5.0",
            "_model_name": "HBoxModel",
            "_view_count": null,
            "_view_module": "@jupyter-widgets/controls",
            "_view_module_version": "1.5.0",
            "_view_name": "HBoxView",
            "box_style": "",
            "children": [
              "IPY_MODEL_35b83fa7e20c4e7db9520b06faf98eb4",
              "IPY_MODEL_26c092ad84514e1e9423ced82111a4a2",
              "IPY_MODEL_573e28262c11401d85a505080be7ae36"
            ],
            "layout": "IPY_MODEL_d873f16a6fd6443cb565cf0cc59b40bc"
          }
        },
        "35b83fa7e20c4e7db9520b06faf98eb4": {
          "model_module": "@jupyter-widgets/controls",
          "model_name": "HTMLModel",
          "model_module_version": "1.5.0",
          "state": {
            "_dom_classes": [],
            "_model_module": "@jupyter-widgets/controls",
            "_model_module_version": "1.5.0",
            "_model_name": "HTMLModel",
            "_view_count": null,
            "_view_module": "@jupyter-widgets/controls",
            "_view_module_version": "1.5.0",
            "_view_name": "HTMLView",
            "description": "",
            "description_tooltip": null,
            "layout": "IPY_MODEL_059956877ac64307adcd5093bd17fd76",
            "placeholder": "​",
            "style": "IPY_MODEL_cdfa741cc14242239273a3f67f72c72c",
            "value": "Filter: 100%"
          }
        },
        "26c092ad84514e1e9423ced82111a4a2": {
          "model_module": "@jupyter-widgets/controls",
          "model_name": "FloatProgressModel",
          "model_module_version": "1.5.0",
          "state": {
            "_dom_classes": [],
            "_model_module": "@jupyter-widgets/controls",
            "_model_module_version": "1.5.0",
            "_model_name": "FloatProgressModel",
            "_view_count": null,
            "_view_module": "@jupyter-widgets/controls",
            "_view_module_version": "1.5.0",
            "_view_name": "ProgressView",
            "bar_style": "success",
            "description": "",
            "description_tooltip": null,
            "layout": "IPY_MODEL_68dd4e96c192485186e4c52d02552480",
            "max": 8716,
            "min": 0,
            "orientation": "horizontal",
            "style": "IPY_MODEL_82446aec5e6942fcbd02d15aac490564",
            "value": 8716
          }
        },
        "573e28262c11401d85a505080be7ae36": {
          "model_module": "@jupyter-widgets/controls",
          "model_name": "HTMLModel",
          "model_module_version": "1.5.0",
          "state": {
            "_dom_classes": [],
            "_model_module": "@jupyter-widgets/controls",
            "_model_module_version": "1.5.0",
            "_model_name": "HTMLModel",
            "_view_count": null,
            "_view_module": "@jupyter-widgets/controls",
            "_view_module_version": "1.5.0",
            "_view_name": "HTMLView",
            "description": "",
            "description_tooltip": null,
            "layout": "IPY_MODEL_9d32a4ff24024c699170c628566e36ae",
            "placeholder": "​",
            "style": "IPY_MODEL_2126168f82dd4f21af9ebe7b7ef93fbe",
            "value": " 8716/8716 [01:33&lt;00:00, 93.73 examples/s]"
          }
        },
        "d873f16a6fd6443cb565cf0cc59b40bc": {
          "model_module": "@jupyter-widgets/base",
          "model_name": "LayoutModel",
          "model_module_version": "1.2.0",
          "state": {
            "_model_module": "@jupyter-widgets/base",
            "_model_module_version": "1.2.0",
            "_model_name": "LayoutModel",
            "_view_count": null,
            "_view_module": "@jupyter-widgets/base",
            "_view_module_version": "1.2.0",
            "_view_name": "LayoutView",
            "align_content": null,
            "align_items": null,
            "align_self": null,
            "border": null,
            "bottom": null,
            "display": null,
            "flex": null,
            "flex_flow": null,
            "grid_area": null,
            "grid_auto_columns": null,
            "grid_auto_flow": null,
            "grid_auto_rows": null,
            "grid_column": null,
            "grid_gap": null,
            "grid_row": null,
            "grid_template_areas": null,
            "grid_template_columns": null,
            "grid_template_rows": null,
            "height": null,
            "justify_content": null,
            "justify_items": null,
            "left": null,
            "margin": null,
            "max_height": null,
            "max_width": null,
            "min_height": null,
            "min_width": null,
            "object_fit": null,
            "object_position": null,
            "order": null,
            "overflow": null,
            "overflow_x": null,
            "overflow_y": null,
            "padding": null,
            "right": null,
            "top": null,
            "visibility": null,
            "width": null
          }
        },
        "059956877ac64307adcd5093bd17fd76": {
          "model_module": "@jupyter-widgets/base",
          "model_name": "LayoutModel",
          "model_module_version": "1.2.0",
          "state": {
            "_model_module": "@jupyter-widgets/base",
            "_model_module_version": "1.2.0",
            "_model_name": "LayoutModel",
            "_view_count": null,
            "_view_module": "@jupyter-widgets/base",
            "_view_module_version": "1.2.0",
            "_view_name": "LayoutView",
            "align_content": null,
            "align_items": null,
            "align_self": null,
            "border": null,
            "bottom": null,
            "display": null,
            "flex": null,
            "flex_flow": null,
            "grid_area": null,
            "grid_auto_columns": null,
            "grid_auto_flow": null,
            "grid_auto_rows": null,
            "grid_column": null,
            "grid_gap": null,
            "grid_row": null,
            "grid_template_areas": null,
            "grid_template_columns": null,
            "grid_template_rows": null,
            "height": null,
            "justify_content": null,
            "justify_items": null,
            "left": null,
            "margin": null,
            "max_height": null,
            "max_width": null,
            "min_height": null,
            "min_width": null,
            "object_fit": null,
            "object_position": null,
            "order": null,
            "overflow": null,
            "overflow_x": null,
            "overflow_y": null,
            "padding": null,
            "right": null,
            "top": null,
            "visibility": null,
            "width": null
          }
        },
        "cdfa741cc14242239273a3f67f72c72c": {
          "model_module": "@jupyter-widgets/controls",
          "model_name": "DescriptionStyleModel",
          "model_module_version": "1.5.0",
          "state": {
            "_model_module": "@jupyter-widgets/controls",
            "_model_module_version": "1.5.0",
            "_model_name": "DescriptionStyleModel",
            "_view_count": null,
            "_view_module": "@jupyter-widgets/base",
            "_view_module_version": "1.2.0",
            "_view_name": "StyleView",
            "description_width": ""
          }
        },
        "68dd4e96c192485186e4c52d02552480": {
          "model_module": "@jupyter-widgets/base",
          "model_name": "LayoutModel",
          "model_module_version": "1.2.0",
          "state": {
            "_model_module": "@jupyter-widgets/base",
            "_model_module_version": "1.2.0",
            "_model_name": "LayoutModel",
            "_view_count": null,
            "_view_module": "@jupyter-widgets/base",
            "_view_module_version": "1.2.0",
            "_view_name": "LayoutView",
            "align_content": null,
            "align_items": null,
            "align_self": null,
            "border": null,
            "bottom": null,
            "display": null,
            "flex": null,
            "flex_flow": null,
            "grid_area": null,
            "grid_auto_columns": null,
            "grid_auto_flow": null,
            "grid_auto_rows": null,
            "grid_column": null,
            "grid_gap": null,
            "grid_row": null,
            "grid_template_areas": null,
            "grid_template_columns": null,
            "grid_template_rows": null,
            "height": null,
            "justify_content": null,
            "justify_items": null,
            "left": null,
            "margin": null,
            "max_height": null,
            "max_width": null,
            "min_height": null,
            "min_width": null,
            "object_fit": null,
            "object_position": null,
            "order": null,
            "overflow": null,
            "overflow_x": null,
            "overflow_y": null,
            "padding": null,
            "right": null,
            "top": null,
            "visibility": null,
            "width": null
          }
        },
        "82446aec5e6942fcbd02d15aac490564": {
          "model_module": "@jupyter-widgets/controls",
          "model_name": "ProgressStyleModel",
          "model_module_version": "1.5.0",
          "state": {
            "_model_module": "@jupyter-widgets/controls",
            "_model_module_version": "1.5.0",
            "_model_name": "ProgressStyleModel",
            "_view_count": null,
            "_view_module": "@jupyter-widgets/base",
            "_view_module_version": "1.2.0",
            "_view_name": "StyleView",
            "bar_color": null,
            "description_width": ""
          }
        },
        "9d32a4ff24024c699170c628566e36ae": {
          "model_module": "@jupyter-widgets/base",
          "model_name": "LayoutModel",
          "model_module_version": "1.2.0",
          "state": {
            "_model_module": "@jupyter-widgets/base",
            "_model_module_version": "1.2.0",
            "_model_name": "LayoutModel",
            "_view_count": null,
            "_view_module": "@jupyter-widgets/base",
            "_view_module_version": "1.2.0",
            "_view_name": "LayoutView",
            "align_content": null,
            "align_items": null,
            "align_self": null,
            "border": null,
            "bottom": null,
            "display": null,
            "flex": null,
            "flex_flow": null,
            "grid_area": null,
            "grid_auto_columns": null,
            "grid_auto_flow": null,
            "grid_auto_rows": null,
            "grid_column": null,
            "grid_gap": null,
            "grid_row": null,
            "grid_template_areas": null,
            "grid_template_columns": null,
            "grid_template_rows": null,
            "height": null,
            "justify_content": null,
            "justify_items": null,
            "left": null,
            "margin": null,
            "max_height": null,
            "max_width": null,
            "min_height": null,
            "min_width": null,
            "object_fit": null,
            "object_position": null,
            "order": null,
            "overflow": null,
            "overflow_x": null,
            "overflow_y": null,
            "padding": null,
            "right": null,
            "top": null,
            "visibility": null,
            "width": null
          }
        },
        "2126168f82dd4f21af9ebe7b7ef93fbe": {
          "model_module": "@jupyter-widgets/controls",
          "model_name": "DescriptionStyleModel",
          "model_module_version": "1.5.0",
          "state": {
            "_model_module": "@jupyter-widgets/controls",
            "_model_module_version": "1.5.0",
            "_model_name": "DescriptionStyleModel",
            "_view_count": null,
            "_view_module": "@jupyter-widgets/base",
            "_view_module_version": "1.2.0",
            "_view_name": "StyleView",
            "description_width": ""
          }
        }
      }
    }
  },
  "cells": [
    {
      "cell_type": "markdown",
      "source": [
        "# Classifying Alljoined1 with EEGNet\n",
        "### Structure of the notebook:\n",
        "\n",
        "__Setup__\n",
        "- 0. Import libraries\n",
        "- 1. Mount drive\n",
        "- 2. Install and load dataset\n",
        "- 3. Build COCO supercategory mapping\n",
        "  - 3.1 Encode the labels\n",
        "- 4. Dataset class and split\n",
        "\n",
        "__Building and training__\n",
        "- 5. Build EEGNet\n",
        "- 6. Hyperpar. tuning\n",
        "- 7. Train final model\n",
        "\n",
        "__Testing__\n",
        "- 8. Evaluations and metrics\n",
        "- 9. Analysis of most important channels\n"
      ],
      "metadata": {
        "id": "HYqaHMVNEys3"
      }
    },
    {
      "cell_type": "markdown",
      "source": [
        "## 0. Import libraries"
      ],
      "metadata": {
        "id": "PyS4YCTDFcAN"
      }
    },
    {
      "cell_type": "code",
      "source": [
        "!pip install --quiet datasets pycocotools mne\n",
        "from google.colab import drive\n",
        "import os\n",
        "import json\n",
        "import numpy as np\n",
        "import torch\n",
        "import torch.nn as nn\n",
        "import torch.nn.functional as F\n",
        "import torch.optim as optim\n",
        "from torch.utils.data import Dataset, DataLoader\n",
        "from datasets import load_dataset\n",
        "from sklearn.model_selection import train_test_split\n",
        "from sklearn.metrics import (\n",
        "    average_precision_score,\n",
        "    hamming_loss,\n",
        "    confusion_matrix,\n",
        "    classification_report\n",
        ")\n",
        "import matplotlib.pyplot as plt\n",
        "import mne"
      ],
      "metadata": {
        "id": "ifT6_-akFmka"
      },
      "execution_count": null,
      "outputs": []
    },
    {
      "cell_type": "markdown",
      "source": [
        "## 1. Mount drive"
      ],
      "metadata": {
        "id": "WRg-Z4DTFrg0"
      }
    },
    {
      "cell_type": "code",
      "source": [
        "# Mount Google Drive\n",
        "drive.mount('/content/drive')\n",
        "\n",
        "# Directories for caches and artifacts\n",
        "DRIVE_ROOT = '/content/drive/MyDrive'\n",
        "HF_CACHE = os.path.join(DRIVE_ROOT, 'hf_cache')\n",
        "COCO_DIR  = os.path.join(DRIVE_ROOT, 'coco_annotations')\n",
        "CKPT_DIR  = os.path.join(DRIVE_ROOT, 'eegnet_checkpoints')\n",
        "for d in [HF_CACHE, COCO_DIR, CKPT_DIR]: os.makedirs(d, exist_ok=True)\n",
        "\n",
        "# Set environment for Hugging Face cache\n",
        "os.environ['HF_HOME'] = HF_CACHE\n",
        "os.environ['XDG_CACHE_HOME'] = HF_CACHE"
      ],
      "metadata": {
        "colab": {
          "base_uri": "https://localhost:8080/"
        },
        "id": "QLOV7tUXptdx",
        "outputId": "1c8abd95-8fa3-4850-aef2-fe8c5e0767ca"
      },
      "execution_count": 1,
      "outputs": [
        {
          "output_type": "stream",
          "name": "stdout",
          "text": [
            "Mounted at /content/drive\n"
          ]
        }
      ]
    },
    {
      "cell_type": "markdown",
      "source": [
        "## 2. Install & load dataset"
      ],
      "metadata": {
        "id": "xXg63-5SF50S"
      }
    },
    {
      "cell_type": "code",
      "source": [
        "dataset = load_dataset('Alljoined/05_125')\n",
        "# We use all available subjects\n",
        "subjects = sorted(set(dataset['train']['subject_id']))\n",
        "print(f\"Loaded data for subjects: {subjects}\")"
      ],
      "metadata": {
        "colab": {
          "base_uri": "https://localhost:8080/"
        },
        "id": "52klwtzVptbK",
        "outputId": "fe19826a-a295-4a68-8349-260328c759cd"
      },
      "execution_count": 2,
      "outputs": [
        {
          "output_type": "stream",
          "name": "stdout",
          "text": [
            "\u001b[?25l   \u001b[90m━━━━━━━━━━━━━━━━━━━━━━━━━━━━━━━━━━━━━━━━\u001b[0m \u001b[32m0.0/491.2 kB\u001b[0m \u001b[31m?\u001b[0m eta \u001b[36m-:--:--\u001b[0m\r\u001b[2K   \u001b[91m━━━━━━━━━━━━━━━━━━━━━━━━━━━━━━━━━━━━━━━\u001b[0m\u001b[90m╺\u001b[0m \u001b[32m481.3/491.2 kB\u001b[0m \u001b[31m16.7 MB/s\u001b[0m eta \u001b[36m0:00:01\u001b[0m\r\u001b[2K   \u001b[90m━━━━━━━━━━━━━━━━━━━━━━━━━━━━━━━━━━━━━━━━\u001b[0m \u001b[32m491.2/491.2 kB\u001b[0m \u001b[31m7.3 MB/s\u001b[0m eta \u001b[36m0:00:00\u001b[0m\n",
            "\u001b[2K   \u001b[90m━━━━━━━━━━━━━━━━━━━━━━━━━━━━━━━━━━━━━━━━\u001b[0m \u001b[32m116.3/116.3 kB\u001b[0m \u001b[31m4.5 MB/s\u001b[0m eta \u001b[36m0:00:00\u001b[0m\n",
            "\u001b[2K   \u001b[90m━━━━━━━━━━━━━━━━━━━━━━━━━━━━━━━━━━━━━━━━\u001b[0m \u001b[32m183.9/183.9 kB\u001b[0m \u001b[31m7.2 MB/s\u001b[0m eta \u001b[36m0:00:00\u001b[0m\n",
            "\u001b[2K   \u001b[90m━━━━━━━━━━━━━━━━━━━━━━━━━━━━━━━━━━━━━━━━\u001b[0m \u001b[32m143.5/143.5 kB\u001b[0m \u001b[31m6.1 MB/s\u001b[0m eta \u001b[36m0:00:00\u001b[0m\n",
            "\u001b[2K   \u001b[90m━━━━━━━━━━━━━━━━━━━━━━━━━━━━━━━━━━━━━━━━\u001b[0m \u001b[32m194.8/194.8 kB\u001b[0m \u001b[31m4.7 MB/s\u001b[0m eta \u001b[36m0:00:00\u001b[0m\n",
            "\u001b[?25h\u001b[31mERROR: pip's dependency resolver does not currently take into account all the packages that are installed. This behaviour is the source of the following dependency conflicts.\n",
            "gcsfs 2025.3.2 requires fsspec==2025.3.2, but you have fsspec 2024.12.0 which is incompatible.\n",
            "torch 2.6.0+cu124 requires nvidia-cublas-cu12==12.4.5.8; platform_system == \"Linux\" and platform_machine == \"x86_64\", but you have nvidia-cublas-cu12 12.5.3.2 which is incompatible.\n",
            "torch 2.6.0+cu124 requires nvidia-cuda-cupti-cu12==12.4.127; platform_system == \"Linux\" and platform_machine == \"x86_64\", but you have nvidia-cuda-cupti-cu12 12.5.82 which is incompatible.\n",
            "torch 2.6.0+cu124 requires nvidia-cuda-nvrtc-cu12==12.4.127; platform_system == \"Linux\" and platform_machine == \"x86_64\", but you have nvidia-cuda-nvrtc-cu12 12.5.82 which is incompatible.\n",
            "torch 2.6.0+cu124 requires nvidia-cuda-runtime-cu12==12.4.127; platform_system == \"Linux\" and platform_machine == \"x86_64\", but you have nvidia-cuda-runtime-cu12 12.5.82 which is incompatible.\n",
            "torch 2.6.0+cu124 requires nvidia-cudnn-cu12==9.1.0.70; platform_system == \"Linux\" and platform_machine == \"x86_64\", but you have nvidia-cudnn-cu12 9.3.0.75 which is incompatible.\n",
            "torch 2.6.0+cu124 requires nvidia-cufft-cu12==11.2.1.3; platform_system == \"Linux\" and platform_machine == \"x86_64\", but you have nvidia-cufft-cu12 11.2.3.61 which is incompatible.\n",
            "torch 2.6.0+cu124 requires nvidia-curand-cu12==10.3.5.147; platform_system == \"Linux\" and platform_machine == \"x86_64\", but you have nvidia-curand-cu12 10.3.6.82 which is incompatible.\n",
            "torch 2.6.0+cu124 requires nvidia-cusolver-cu12==11.6.1.9; platform_system == \"Linux\" and platform_machine == \"x86_64\", but you have nvidia-cusolver-cu12 11.6.3.83 which is incompatible.\n",
            "torch 2.6.0+cu124 requires nvidia-cusparse-cu12==12.3.1.170; platform_system == \"Linux\" and platform_machine == \"x86_64\", but you have nvidia-cusparse-cu12 12.5.1.3 which is incompatible.\n",
            "torch 2.6.0+cu124 requires nvidia-nvjitlink-cu12==12.4.127; platform_system == \"Linux\" and platform_machine == \"x86_64\", but you have nvidia-nvjitlink-cu12 12.5.82 which is incompatible.\u001b[0m\u001b[31m\n",
            "\u001b[0m"
          ]
        },
        {
          "output_type": "stream",
          "name": "stderr",
          "text": [
            "/usr/local/lib/python3.11/dist-packages/huggingface_hub/utils/_auth.py:94: UserWarning: \n",
            "The secret `HF_TOKEN` does not exist in your Colab secrets.\n",
            "To authenticate with the Hugging Face Hub, create a token in your settings tab (https://huggingface.co/settings/tokens), set it as secret in your Google Colab and restart your session.\n",
            "You will be able to reuse this secret in all of your notebooks.\n",
            "Please note that authentication is recommended but still optional to access public models or datasets.\n",
            "  warnings.warn(\n"
          ]
        },
        {
          "output_type": "stream",
          "name": "stdout",
          "text": [
            "Loaded data for subjects: [1, 2, 3, 4, 5, 6, 7, 8]\n"
          ]
        }
      ]
    },
    {
      "cell_type": "markdown",
      "source": [
        "## 3. Build COCO supercategory mapping"
      ],
      "metadata": {
        "id": "KWC7_Ok-GNBD"
      }
    },
    {
      "cell_type": "code",
      "source": [
        "# Annotations already on Drive\n",
        "ann_dir = os.path.join(COCO_DIR, 'annotations')\n",
        "if not os.path.isdir(ann_dir):\n",
        "    # download and unzip if missing\n",
        "    !wget -q http://images.cocodataset.org/annotations/annotations_trainval2017.zip \\\n",
        "        -O '{os.path.join(COCO_DIR, 'annotations_trainval2017.zip')}'\n",
        "    !unzip -q '{os.path.join(COCO_DIR, 'annotations_trainval2017.zip')}' -d '{COCO_DIR}'\n",
        "# Load category→supercategory\n",
        "with open(f\"{ann_dir}/instances_train2017.json\") as f: train_ann = json.load(f)\n",
        "cat2sup = {c['id']: c['supercategory'] for c in train_ann['categories']}\n",
        "# Build image→sup set\n",
        "img2sup = {}\n",
        "for split in ['train','val']:\n",
        "    with open(f\"{ann_dir}/instances_{split}2017.json\") as f: data = json.load(f)\n",
        "    for img in data['images']: img2sup[img['id']] = set()\n",
        "    for ann in data['annotations']: img2sup[ann['image_id']].add(cat2sup[ann['category_id']])\n",
        "print(f\"Built mapping for {len(img2sup)} COCO images.\")"
      ],
      "metadata": {
        "colab": {
          "base_uri": "https://localhost:8080/"
        },
        "id": "dWtxpuP8ptY_",
        "outputId": "8c2e5242-72f2-4cad-c170-6d38563a651b"
      },
      "execution_count": 3,
      "outputs": [
        {
          "output_type": "stream",
          "name": "stdout",
          "text": [
            "Built mapping for 123287 COCO images.\n"
          ]
        }
      ]
    },
    {
      "cell_type": "markdown",
      "source": [
        "## 3.1 Encode the labels"
      ],
      "metadata": {
        "id": "sJ0nOh8KGiLV"
      }
    },
    {
      "cell_type": "code",
      "source": [
        "all_sup = sorted({s for sups in img2sup.values() for s in sups})\n",
        "sup2idx = {sup:i for i,sup in enumerate(all_sup)}\n",
        "dim_labels = len(all_sup)\n",
        "print(\"Superclasses:\", all_sup)"
      ],
      "metadata": {
        "colab": {
          "base_uri": "https://localhost:8080/"
        },
        "id": "LVhMrGRnptWZ",
        "outputId": "35a80622-3c89-4159-9a53-523cb90810a2"
      },
      "execution_count": 4,
      "outputs": [
        {
          "output_type": "stream",
          "name": "stdout",
          "text": [
            "Superclasses: ['accessory', 'animal', 'appliance', 'electronic', 'food', 'furniture', 'indoor', 'kitchen', 'outdoor', 'person', 'sports', 'vehicle']\n"
          ]
        }
      ]
    },
    {
      "cell_type": "markdown",
      "source": [
        "## 4. Dataset class & split"
      ],
      "metadata": {
        "id": "TDmGof2WGxQB"
      }
    },
    {
      "cell_type": "code",
      "source": [
        "class EEGDataset(Dataset):\n",
        "    def __init__(self, hf_ds, subject_list):\n",
        "        # Filter by subjects\n",
        "        self.data = hf_ds.filter(lambda x: x['subject_id'] in subject_list)\n",
        "    def __len__(self): return len(self.data)\n",
        "    def __getitem__(self, idx):\n",
        "        row = self.data[idx]\n",
        "        eeg = np.array(row['EEG'],dtype=np.float32)\n",
        "        eeg = (eeg - eeg.mean(axis=1,keepdims=True)) / (eeg.std(axis=1,keepdims=True)+1e-6)\n",
        "        eeg = eeg[np.newaxis,...]  # (1,64,T)\n",
        "        label = np.zeros(dim_labels, np.float32)\n",
        "        for sup in img2sup.get(row['coco_id'],[]): label[sup2idx[sup]] = 1.0\n",
        "        return torch.tensor(eeg), torch.tensor(label)\n",
        "\n",
        "# Split subjects: train=first 6, val=1, test=1\n",
        "train_sub, temp_sub = subjects[:6], subjects[6:]\n",
        "val_sub, test_sub = temp_sub[0:1], temp_sub[1:2]\n",
        "print(f\"Train subs: {train_sub}, Val subs: {val_sub}, Test subs: {test_sub}\")\n",
        "\n",
        "# Create dataloaders\n",
        "batch_size=32\n",
        "train_ds = EEGDataset(dataset['train'], train_sub)\n",
        "val_ds   = EEGDataset(dataset['train'], val_sub)\n",
        "test_ds  = EEGDataset(dataset['test'],  test_sub)\n",
        "train_loader = DataLoader(train_ds, batch_size, shuffle=True)\n",
        "val_loader   = DataLoader(val_ds,   batch_size)\n",
        "test_loader  = DataLoader(test_ds,  batch_size)\n",
        "print(f\"Train: {len(train_ds)}, Val: {len(val_ds)}, Test: {len(test_ds)} trials\")\n"
      ],
      "metadata": {
        "colab": {
          "base_uri": "https://localhost:8080/",
          "height": 148,
          "referenced_widgets": [
            "bb80eab338de42909d0de0fd4881dc22",
            "ece00727a98a47fe8744c58be052874d",
            "3ef4697f5b78408493ae6e37c90f6de7",
            "d9e8e7b6e1494350957a356b9fae8b1b",
            "d75d5db83fc74ab5ac6adb85a46097a5",
            "1f396f1bcbea45b6b5a137870ce8fa7f",
            "ac31de74dfb44e118b090e6e0dfca047",
            "75f2e5978ff4498f85f61205ee6e2ac1",
            "b680f5eade694ff9918dfd4249e5d6bd",
            "3a44ebd963424e9383af501053461a99",
            "1f2d390f1c164e4dac30fe9f89156eb3",
            "89f7bc0a2df24f07860f28b11c19082c",
            "5a15d0c3989c4b6eab7966e553cfe04e",
            "6ca6c19464e94e6c87deb0e637d165f3",
            "4d1ab98188ee430e9db6079ae711e866",
            "198628978cd942979b00c9fc948135ef",
            "10755985a0074192a753b6bc3b5aa09e",
            "21d80afcc0674e4aab0587811e1be838",
            "7e8f90b9b06e41deb3879797e1a71883",
            "a902be2cdac8453ba43a9823d1c8c8e4",
            "2aaaf4f53b3245749e70bbf68c1d2e3d",
            "131c79ee8ca640879fc199f7d268ff85",
            "22538db31e624daa8b7f906b894a5987",
            "35b83fa7e20c4e7db9520b06faf98eb4",
            "26c092ad84514e1e9423ced82111a4a2",
            "573e28262c11401d85a505080be7ae36",
            "d873f16a6fd6443cb565cf0cc59b40bc",
            "059956877ac64307adcd5093bd17fd76",
            "cdfa741cc14242239273a3f67f72c72c",
            "68dd4e96c192485186e4c52d02552480",
            "82446aec5e6942fcbd02d15aac490564",
            "9d32a4ff24024c699170c628566e36ae",
            "2126168f82dd4f21af9ebe7b7ef93fbe"
          ]
        },
        "id": "h6AXVkLIptUJ",
        "outputId": "3daefdf8-3b07-47a2-9f14-fc30c111d361"
      },
      "execution_count": 5,
      "outputs": [
        {
          "output_type": "stream",
          "name": "stdout",
          "text": [
            "Train subs: [1, 2, 3, 4, 5, 6], Val subs: [7], Test subs: [8]\n"
          ]
        },
        {
          "output_type": "display_data",
          "data": {
            "text/plain": [
              "Filter:   0%|          | 0/34354 [00:00<?, ? examples/s]"
            ],
            "application/vnd.jupyter.widget-view+json": {
              "version_major": 2,
              "version_minor": 0,
              "model_id": "bb80eab338de42909d0de0fd4881dc22"
            }
          },
          "metadata": {}
        },
        {
          "output_type": "display_data",
          "data": {
            "text/plain": [
              "Filter:   0%|          | 0/34354 [00:00<?, ? examples/s]"
            ],
            "application/vnd.jupyter.widget-view+json": {
              "version_major": 2,
              "version_minor": 0,
              "model_id": "89f7bc0a2df24f07860f28b11c19082c"
            }
          },
          "metadata": {}
        },
        {
          "output_type": "display_data",
          "data": {
            "text/plain": [
              "Filter:   0%|          | 0/8716 [00:00<?, ? examples/s]"
            ],
            "application/vnd.jupyter.widget-view+json": {
              "version_major": 2,
              "version_minor": 0,
              "model_id": "22538db31e624daa8b7f906b894a5987"
            }
          },
          "metadata": {}
        },
        {
          "output_type": "stream",
          "name": "stdout",
          "text": [
            "Train: 28282, Val: 3061, Test: 763 trials\n"
          ]
        }
      ]
    },
    {
      "cell_type": "markdown",
      "source": [
        "## 5. EEGNet model"
      ],
      "metadata": {
        "id": "cZWczk0iHDo2"
      }
    },
    {
      "cell_type": "code",
      "source": [
        "def make_eegnet(chans=64, samples=334, dropout=0.25, n_classes=dim_labels):\n",
        "    net = nn.Sequential(\n",
        "        nn.Conv2d(1,16,(1,64),padding=(0,32),bias=False), nn.BatchNorm2d(16), nn.ELU(),\n",
        "        nn.Conv2d(16,32,(chans,1),groups=16,bias=False), nn.BatchNorm2d(32), nn.ELU(),\n",
        "        nn.AvgPool2d((1,4)), nn.Dropout(dropout),\n",
        "        nn.Conv2d(32,32,(1,16),padding=(0,8),bias=False), nn.BatchNorm2d(32), nn.ELU(),\n",
        "        nn.AvgPool2d((1,8)), nn.Dropout(dropout),\n",
        "        nn.Flatten(), nn.Linear(32 * (samples//(4*8)), n_classes)\n",
        "    )\n",
        "    return net\n",
        "\n",
        "device = torch.device('cuda' if torch.cuda.is_available() else 'cpu')\n",
        "print(f\"Using device: {device}\")"
      ],
      "metadata": {
        "colab": {
          "base_uri": "https://localhost:8080/"
        },
        "id": "A3BiBlZAptRp",
        "outputId": "3e6aa6ff-439b-4150-c1dc-5062c40b6709"
      },
      "execution_count": 6,
      "outputs": [
        {
          "output_type": "stream",
          "name": "stdout",
          "text": [
            "Using device: cuda\n"
          ]
        }
      ]
    },
    {
      "cell_type": "markdown",
      "source": [
        "## 6. Hyperparameter tuning (with grid search)"
      ],
      "metadata": {
        "id": "q_Yw1i9eHVKu"
      }
    },
    {
      "cell_type": "code",
      "source": [
        "grid = {'lr':[1e-3,1e-4], 'dropout':[0.2,0.5]}\n",
        "results = []\n",
        "for lr in grid['lr']:\n",
        "    for dr in grid['dropout']:\n",
        "        model = make_eegnet(dropout=dr).to(device)\n",
        "        opt = optim.Adam(model.parameters(), lr=lr)\n",
        "        # one epoch training\n",
        "        model.train()\n",
        "        for x,y in train_loader:\n",
        "            opt.zero_grad(); out=model(x.to(device)); loss=F.binary_cross_entropy_with_logits(out,y.to(device)); loss.backward(); opt.step()\n",
        "        # evaluate on val\n",
        "        model.eval();\n",
        "        ys, ps = [], []\n",
        "        with torch.no_grad():\n",
        "            for x,y in val_loader:\n",
        "                o = torch.sigmoid(model(x.to(device))).cpu().numpy(); ys.append(y.numpy()); ps.append(o)\n",
        "        ys, ps = np.vstack(ys), np.vstack(ps)\n",
        "        mAP = average_precision_score(ys,ps,average='macro')\n",
        "        results.append((lr,dr,mAP))\n",
        "        print(f\"lr={lr}, drop={dr} → mAP={mAP:.3f}\")\n",
        "# Plot\n",
        "lrs = sorted(set(r[0] for r in results))\n",
        "for lr in lrs:\n",
        "    drs = [r[1] for r in results if r[0]==lr]\n",
        "    maps = [r[2] for r in results if r[0]==lr]\n",
        "    plt.plot(drs,maps,'-o',label=f\"lr={lr}\")\n",
        "plt.xlabel('dropout'); plt.ylabel('Val mAP'); plt.title('Hyperparam search'); plt.legend(); plt.show()\n",
        "# Pick best\n",
        "best = max(results, key=lambda x: x[2]); print(\"Best params (lr,drop):\", best[:2])"
      ],
      "metadata": {
        "colab": {
          "base_uri": "https://localhost:8080/",
          "height": 559
        },
        "id": "uI2COGWBptPR",
        "outputId": "030e6cd5-b180-4311-981e-38f871715f3c"
      },
      "execution_count": 7,
      "outputs": [
        {
          "output_type": "stream",
          "name": "stdout",
          "text": [
            "lr=0.001, drop=0.2 → mAP=0.209\n",
            "lr=0.001, drop=0.5 → mAP=0.221\n",
            "lr=0.0001, drop=0.2 → mAP=0.190\n",
            "lr=0.0001, drop=0.5 → mAP=0.181\n"
          ]
        },
        {
          "output_type": "display_data",
          "data": {
            "text/plain": [
              "<Figure size 640x480 with 1 Axes>"
            ],
            "image/png": "[encoded data removed]"
          },
          "metadata": {}
        },
        {
          "output_type": "stream",
          "name": "stdout",
          "text": [
            "Best params (lr,drop): (0.001, 0.5)\n"
          ]
        }
      ]
    },
    {
      "cell_type": "markdown",
      "source": [
        "## 7. Train final model"
      ],
      "metadata": {
        "id": "0JhkWDdnHnY4"
      }
    },
    {
      "cell_type": "code",
      "source": [
        "best_lr, best_dr, _ = best\n",
        "model = make_eegnet(dropout=best_dr).to(device)\n",
        "opt = torch.optim.Adam(model.parameters(), lr=best_lr)\n",
        "# combine train+val\n",
        "combined_loader = DataLoader(torch.utils.data.ConcatDataset([train_ds,val_ds]), batch_size, shuffle=True)\n",
        "\n",
        "n_epochs=5\n",
        "for epoch in range(n_epochs:=n_epochs if 'n_epochs' in globals() else 5):\n",
        "    model.train();\n",
        "    for x,y in combined_loader: opt.zero_grad(); loss=F.binary_cross_entropy_with_logits(model(x.to(device)),y.to(device)); loss.backward(); opt.step()\n",
        "print(\"Final model trained on train+val.\")\n",
        "# Save checkpoint\n",
        "torch.save(model.state_dict(), os.path.join(CKPT_DIR,'eegnet_multisubj.pth'))"
      ],
      "metadata": {
        "colab": {
          "base_uri": "https://localhost:8080/"
        },
        "id": "ZfMN4qdbptM0",
        "outputId": "a1902e6a-0fb4-4f61-9c36-8bbece866391"
      },
      "execution_count": 8,
      "outputs": [
        {
          "output_type": "stream",
          "name": "stdout",
          "text": [
            "Final model trained on train+val.\n"
          ]
        }
      ]
    },
    {
      "cell_type": "markdown",
      "source": [
        "## 8. Test evaluation & metrics"
      ],
      "metadata": {
        "id": "0FB4uQfMHxXQ"
      }
    },
    {
      "cell_type": "code",
      "source": [
        "# Ensure model is in eval mode\n",
        "model.eval()\n",
        "\n",
        "# Collect true labels and predicted probabilities for multi-label metrics\n",
        "ys, ps = [], []\n",
        "with torch.no_grad():\n",
        "    for x, y in test_loader:\n",
        "        o = torch.sigmoid(model(x.to(device))).cpu().numpy()\n",
        "        ys.append(y.numpy()); ps.append(o)\n",
        "ys, ps = np.vstack(ys), np.vstack(ps)\n",
        "\n",
        "# Multi-label evaluation\n",
        "aps = average_precision_score(ys, ps, average=None)\n",
        "print(\"Test AP per class:\")\n",
        "for i, sup in enumerate(all_sup):\n",
        "    print(f\"  {sup}: {aps[i]:.3f}\")\n",
        "print(\"mAP:\", aps.mean())\n",
        "print(\"Hamming Loss:\", hamming_loss(ys, (ps >= 0.5).astype(int)))\n",
        "\n",
        "# Single-label confusion & classification report\n",
        "preds = np.argmax(ps, axis=1)\n",
        "trues = np.argmax(ys, axis=1)\n",
        "labels = list(range(dim_labels))\n",
        "print(\"Classification Report (single-label argmax):\")\n",
        "print(classification_report(trues, preds, labels=labels, target_names=all_sup, zero_division=0))\n",
        "\n",
        "cm = confusion_matrix(trues, preds, labels=labels)\n",
        "plt.figure(figsize=(8,8))\n",
        "plt.imshow(cm, interpolation='nearest')\n",
        "plt.title('Confusion Matrix of Single-label Predictions')\n",
        "plt.xlabel('Predicted label'); plt.ylabel('True label')\n",
        "plt.xticks(labels, all_sup, rotation=90)\n",
        "plt.yticks(labels, all_sup)\n",
        "plt.colorbar()\n",
        "plt.tight_layout(); plt.show()\n",
        "\n",
        "# Bar chart of AP per class\n",
        "aps = np.array(aps)  # from your Cell 8\n",
        "inds = np.argsort(aps)\n",
        "plt.figure(figsize=(8,6))\n",
        "plt.barh(np.array(all_sup)[inds], aps[inds])\n",
        "plt.xlabel(\"Average Precision (AP)\")\n",
        "plt.title(\"AP by Superclass\")\n",
        "plt.tight_layout()\n",
        "plt.show()\n"
      ],
      "metadata": {
        "colab": {
          "base_uri": "https://localhost:8080/",
          "height": 1000
        },
        "id": "Zfc6e0l6ptKl",
        "outputId": "99de6a94-687b-4718-d4d2-db6b1c57ac0a"
      },
      "execution_count": 20,
      "outputs": [
        {
          "output_type": "stream",
          "name": "stdout",
          "text": [
            "Test AP per class:\n",
            "  accessory: 0.188\n",
            "  animal: 0.448\n",
            "  appliance: 0.222\n",
            "  electronic: 0.084\n",
            "  food: 0.124\n",
            "  furniture: 0.223\n",
            "  indoor: 0.216\n",
            "  kitchen: 0.214\n",
            "  outdoor: 0.108\n",
            "  person: 0.574\n",
            "  sports: 0.286\n",
            "  vehicle: 0.178\n",
            "mAP: 0.2387771873837613\n",
            "Hamming Loss: 0.16229794670161643\n",
            "Classification Report (single-label argmax):\n",
            "              precision    recall  f1-score   support\n",
            "\n",
            "   accessory       0.00      0.00      0.00        59\n",
            "      animal       0.38      0.59      0.46       204\n",
            "   appliance       0.00      0.00      0.00        82\n",
            "  electronic       0.00      0.00      0.00        32\n",
            "        food       0.00      0.00      0.00        56\n",
            "   furniture       0.12      0.05      0.07        40\n",
            "      indoor       0.00      0.00      0.00        35\n",
            "     kitchen       0.00      0.00      0.00         4\n",
            "     outdoor       0.00      0.00      0.00        51\n",
            "      person       0.27      0.71      0.39       158\n",
            "      sports       0.00      0.00      0.00         0\n",
            "     vehicle       0.00      0.00      0.00        42\n",
            "\n",
            "    accuracy                           0.31       763\n",
            "   macro avg       0.06      0.11      0.08       763\n",
            "weighted avg       0.16      0.31      0.21       763\n",
            "\n"
          ]
        },
        {
          "output_type": "display_data",
          "data": {
            "text/plain": [
              "<Figure size 800x800 with 2 Axes>"
            ],
            "image/png": "[encoded data removed]"
          },
          "metadata": {}
        },
        {
          "output_type": "display_data",
          "data": {
            "text/plain": [
              "<Figure size 800x600 with 1 Axes>"
            ],
            "image/png": "[encoded data removed]"
          },
          "metadata": {}
        }
      ]
    },
    {
      "cell_type": "markdown",
      "source": [
        "## 9. Highlight Top Channels on a 2D 10‑20 Layout"
      ],
      "metadata": {
        "id": "z2hg1ggKICmt"
      }
    },
    {
      "cell_type": "code",
      "source": [
        "# 1) Compute importances from the depthwise Conv layer in the Sequential model\n",
        "# depthwise conv is the 4th module: model[3]\n",
        "w = model[3].weight.detach().cpu().numpy().squeeze()  # shape (32, 1, 64, 1) -> squeeze() -> (32,64)\n",
        "imp = np.mean(np.abs(w), axis=0)  # (64,) per-channel importance\n",
        "\n",
        "# 2) Load 10-20 biosemi64 montage and extract 2D positions\n",
        "montage = mne.channels.make_standard_montage('biosemi64')\n",
        "pos3d = montage.get_positions()['ch_pos']  # dict: ch_name -> (x,y,z)\n",
        "# drop z for 2D layout\n",
        "pos2d = {ch: np.array(coord)[:2] for ch, coord in pos3d.items()}\n",
        "topo_names = montage.ch_names\n",
        "\n",
        "# 3) Normalize coordinates to unit circle\n",
        "coords = np.array([pos2d for pos2d in pos2d.values()])  # unused\n",
        "xs = np.array([pos2d[ch][0] for ch in topo_names])\n",
        "ys = np.array([pos2d[ch][1] for ch in topo_names])\n",
        "scale = np.max(np.sqrt(xs**2 + ys**2))\n",
        "xs /= scale; ys /= scale\n",
        "\n",
        "# 4) Identify top 10 channels by importance\n",
        "top10_idx = np.argsort(imp)[-10:]\n",
        "\n",
        "# 5) Plot layout with highlighted channels\n",
        "plt.figure(figsize=(6,6))\n",
        "plt.scatter(xs, ys, c='lightgray', s=50)\n",
        "for i, ch in enumerate(topo_names):\n",
        "    plt.text(xs[i], ys[i], ch, fontsize=6, ha='center', va='center')\n",
        "for i in top10_idx:\n",
        "    plt.scatter(xs[i], ys[i], c='red', s=100, edgecolors='k')\n",
        "plt.title('Top 10 EEGNet Depthwise Channels')\n",
        "plt.axis('off')\n",
        "plt.show()\n",
        "\n",
        "# 6) Print top 10 list\n",
        "print('Top 10 channels by importance:')\n",
        "for idx in top10_idx[::-1]:\n",
        "    print(f\"  {topo_names[idx]}: {imp[idx]:.4f}\")"
      ],
      "metadata": {
        "colab": {
          "base_uri": "https://localhost:8080/",
          "height": 712
        },
        "id": "lPNTDhOVps4I",
        "outputId": "b172bdd4-f512-4ca2-ea23-70c6cd41d413"
      },
      "execution_count": 19,
      "outputs": [
        {
          "output_type": "display_data",
          "data": {
            "text/plain": [
              "<Figure size 600x600 with 1 Axes>"
            ],
            "image/png": "[encoded data removed]"
          },
          "metadata": {}
        },
        {
          "output_type": "stream",
          "name": "stdout",
          "text": [
            "Top 10 channels by importance:\n",
            "  P8: 0.1478\n",
            "  Oz: 0.1174\n",
            "  P7: 0.1156\n",
            "  P10: 0.1149\n",
            "  PO7: 0.1056\n",
            "  POz: 0.0998\n",
            "  O1: 0.0971\n",
            "  P2: 0.0965\n",
            "  PO8: 0.0952\n",
            "  Iz: 0.0934\n"
          ]
        }
      ]
    },
    {
      "cell_type": "code",
      "source": [],
      "metadata": {
        "id": "1OBbzntjAFUp"
      },
      "execution_count": null,
      "outputs": []
    }
  ]
}